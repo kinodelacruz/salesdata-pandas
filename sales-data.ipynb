{
 "cells": [
  {
   "cell_type": "code",
   "execution_count": 31,
   "id": "716d2f7d",
   "metadata": {},
   "outputs": [],
   "source": [
    "import pandas as pd\n"
   ]
  },
  {
   "cell_type": "code",
   "execution_count": 32,
   "id": "cbc03b5f",
   "metadata": {},
   "outputs": [
    {
     "data": {
      "text/html": [
       "<div>\n",
       "<style scoped>\n",
       "    .dataframe tbody tr th:only-of-type {\n",
       "        vertical-align: middle;\n",
       "    }\n",
       "\n",
       "    .dataframe tbody tr th {\n",
       "        vertical-align: top;\n",
       "    }\n",
       "\n",
       "    .dataframe thead th {\n",
       "        text-align: right;\n",
       "    }\n",
       "</style>\n",
       "<table border=\"1\" class=\"dataframe\">\n",
       "  <thead>\n",
       "    <tr style=\"text-align: right;\">\n",
       "      <th></th>\n",
       "      <th>invoice_no</th>\n",
       "      <th>customer_id</th>\n",
       "      <th>category</th>\n",
       "      <th>quantity</th>\n",
       "      <th>price</th>\n",
       "      <th>payment_method</th>\n",
       "      <th>invoice_date</th>\n",
       "      <th>shopping_mall</th>\n",
       "    </tr>\n",
       "  </thead>\n",
       "  <tbody>\n",
       "    <tr>\n",
       "      <th>0</th>\n",
       "      <td>I138884</td>\n",
       "      <td>229</td>\n",
       "      <td>Clothing</td>\n",
       "      <td>5</td>\n",
       "      <td>1500.40</td>\n",
       "      <td>Credit Card</td>\n",
       "      <td>5/8/2022</td>\n",
       "      <td>Kanyon</td>\n",
       "    </tr>\n",
       "    <tr>\n",
       "      <th>1</th>\n",
       "      <td>I317333</td>\n",
       "      <td>3433</td>\n",
       "      <td>Shoes</td>\n",
       "      <td>3</td>\n",
       "      <td>1800.51</td>\n",
       "      <td>Debit Card</td>\n",
       "      <td>12/12/2021</td>\n",
       "      <td>Forum Istanbul</td>\n",
       "    </tr>\n",
       "    <tr>\n",
       "      <th>2</th>\n",
       "      <td>I127801</td>\n",
       "      <td>644</td>\n",
       "      <td>Clothing</td>\n",
       "      <td>1</td>\n",
       "      <td>300.08</td>\n",
       "      <td>Cash</td>\n",
       "      <td>9/11/2021</td>\n",
       "      <td>Metrocity</td>\n",
       "    </tr>\n",
       "    <tr>\n",
       "      <th>3</th>\n",
       "      <td>I173702</td>\n",
       "      <td>4900</td>\n",
       "      <td>Shoes</td>\n",
       "      <td>5</td>\n",
       "      <td>3000.85</td>\n",
       "      <td>Credit Card</td>\n",
       "      <td>16/05/2021</td>\n",
       "      <td>Metropol AVM</td>\n",
       "    </tr>\n",
       "    <tr>\n",
       "      <th>4</th>\n",
       "      <td>I337046</td>\n",
       "      <td>1089</td>\n",
       "      <td>Books</td>\n",
       "      <td>4</td>\n",
       "      <td>60.60</td>\n",
       "      <td>Cash</td>\n",
       "      <td>24/10/2021</td>\n",
       "      <td>Kanyon</td>\n",
       "    </tr>\n",
       "    <tr>\n",
       "      <th>...</th>\n",
       "      <td>...</td>\n",
       "      <td>...</td>\n",
       "      <td>...</td>\n",
       "      <td>...</td>\n",
       "      <td>...</td>\n",
       "      <td>...</td>\n",
       "      <td>...</td>\n",
       "      <td>...</td>\n",
       "    </tr>\n",
       "    <tr>\n",
       "      <th>99452</th>\n",
       "      <td>I219422</td>\n",
       "      <td>2344</td>\n",
       "      <td>Souvenir</td>\n",
       "      <td>5</td>\n",
       "      <td>58.65</td>\n",
       "      <td>Credit Card</td>\n",
       "      <td>21/09/2022</td>\n",
       "      <td>Kanyon</td>\n",
       "    </tr>\n",
       "    <tr>\n",
       "      <th>99453</th>\n",
       "      <td>I325143</td>\n",
       "      <td>172</td>\n",
       "      <td>Food &amp; Beverage</td>\n",
       "      <td>2</td>\n",
       "      <td>10.46</td>\n",
       "      <td>Cash</td>\n",
       "      <td>22/09/2021</td>\n",
       "      <td>Forum Istanbul</td>\n",
       "    </tr>\n",
       "    <tr>\n",
       "      <th>99454</th>\n",
       "      <td>I824010</td>\n",
       "      <td>425</td>\n",
       "      <td>Food &amp; Beverage</td>\n",
       "      <td>2</td>\n",
       "      <td>10.46</td>\n",
       "      <td>Debit Card</td>\n",
       "      <td>28/03/2021</td>\n",
       "      <td>Metrocity</td>\n",
       "    </tr>\n",
       "    <tr>\n",
       "      <th>99455</th>\n",
       "      <td>I702964</td>\n",
       "      <td>577</td>\n",
       "      <td>Technology</td>\n",
       "      <td>4</td>\n",
       "      <td>4200.00</td>\n",
       "      <td>Cash</td>\n",
       "      <td>16/03/2021</td>\n",
       "      <td>Istinye Park</td>\n",
       "    </tr>\n",
       "    <tr>\n",
       "      <th>99456</th>\n",
       "      <td>I232867</td>\n",
       "      <td>30</td>\n",
       "      <td>Souvenir</td>\n",
       "      <td>3</td>\n",
       "      <td>35.19</td>\n",
       "      <td>Credit Card</td>\n",
       "      <td>15/10/2022</td>\n",
       "      <td>Mall of Istanbul</td>\n",
       "    </tr>\n",
       "  </tbody>\n",
       "</table>\n",
       "<p>99457 rows × 8 columns</p>\n",
       "</div>"
      ],
      "text/plain": [
       "      invoice_no  customer_id         category  quantity    price  \\\n",
       "0        I138884          229         Clothing         5  1500.40   \n",
       "1        I317333         3433            Shoes         3  1800.51   \n",
       "2        I127801          644         Clothing         1   300.08   \n",
       "3        I173702         4900            Shoes         5  3000.85   \n",
       "4        I337046         1089            Books         4    60.60   \n",
       "...          ...          ...              ...       ...      ...   \n",
       "99452    I219422         2344         Souvenir         5    58.65   \n",
       "99453    I325143          172  Food & Beverage         2    10.46   \n",
       "99454    I824010          425  Food & Beverage         2    10.46   \n",
       "99455    I702964          577       Technology         4  4200.00   \n",
       "99456    I232867           30         Souvenir         3    35.19   \n",
       "\n",
       "      payment_method invoice_date     shopping_mall  \n",
       "0        Credit Card     5/8/2022            Kanyon  \n",
       "1         Debit Card   12/12/2021    Forum Istanbul  \n",
       "2               Cash    9/11/2021         Metrocity  \n",
       "3        Credit Card   16/05/2021      Metropol AVM  \n",
       "4               Cash   24/10/2021            Kanyon  \n",
       "...              ...          ...               ...  \n",
       "99452    Credit Card   21/09/2022            Kanyon  \n",
       "99453           Cash   22/09/2021    Forum Istanbul  \n",
       "99454     Debit Card   28/03/2021         Metrocity  \n",
       "99455           Cash   16/03/2021      Istinye Park  \n",
       "99456    Credit Card   15/10/2022  Mall of Istanbul  \n",
       "\n",
       "[99457 rows x 8 columns]"
      ]
     },
     "execution_count": 32,
     "metadata": {},
     "output_type": "execute_result"
    }
   ],
   "source": [
    "df = pd.read_csv(\"fct_invoice.csv\")"
   ]
  },
  {
   "cell_type": "code",
   "execution_count": 33,
   "id": "3fd45ab1",
   "metadata": {},
   "outputs": [
    {
     "data": {
      "text/html": [
       "<div>\n",
       "<style scoped>\n",
       "    .dataframe tbody tr th:only-of-type {\n",
       "        vertical-align: middle;\n",
       "    }\n",
       "\n",
       "    .dataframe tbody tr th {\n",
       "        vertical-align: top;\n",
       "    }\n",
       "\n",
       "    .dataframe thead th {\n",
       "        text-align: right;\n",
       "    }\n",
       "</style>\n",
       "<table border=\"1\" class=\"dataframe\">\n",
       "  <thead>\n",
       "    <tr style=\"text-align: right;\">\n",
       "      <th></th>\n",
       "      <th>age</th>\n",
       "      <th>first_name</th>\n",
       "      <th>gender</th>\n",
       "      <th>id</th>\n",
       "      <th>last_name</th>\n",
       "    </tr>\n",
       "  </thead>\n",
       "  <tbody>\n",
       "    <tr>\n",
       "      <th>0</th>\n",
       "      <td>48.0</td>\n",
       "      <td>Nicholas</td>\n",
       "      <td>M</td>\n",
       "      <td>0</td>\n",
       "      <td>Flores</td>\n",
       "    </tr>\n",
       "    <tr>\n",
       "      <th>1</th>\n",
       "      <td>NaN</td>\n",
       "      <td>Jeffery</td>\n",
       "      <td>M</td>\n",
       "      <td>1</td>\n",
       "      <td>Rowe</td>\n",
       "    </tr>\n",
       "    <tr>\n",
       "      <th>2</th>\n",
       "      <td>57.0</td>\n",
       "      <td>Alexis</td>\n",
       "      <td>F</td>\n",
       "      <td>2</td>\n",
       "      <td>Benton</td>\n",
       "    </tr>\n",
       "    <tr>\n",
       "      <th>3</th>\n",
       "      <td>73.0</td>\n",
       "      <td>Amy</td>\n",
       "      <td>F</td>\n",
       "      <td>3</td>\n",
       "      <td>Johnson</td>\n",
       "    </tr>\n",
       "    <tr>\n",
       "      <th>4</th>\n",
       "      <td>20.0</td>\n",
       "      <td>David</td>\n",
       "      <td>M</td>\n",
       "      <td>4</td>\n",
       "      <td>Moore</td>\n",
       "    </tr>\n",
       "    <tr>\n",
       "      <th>...</th>\n",
       "      <td>...</td>\n",
       "      <td>...</td>\n",
       "      <td>...</td>\n",
       "      <td>...</td>\n",
       "      <td>...</td>\n",
       "    </tr>\n",
       "    <tr>\n",
       "      <th>5186</th>\n",
       "      <td>NaN</td>\n",
       "      <td>Arthur</td>\n",
       "      <td>M</td>\n",
       "      <td>9428</td>\n",
       "      <td>Harris</td>\n",
       "    </tr>\n",
       "    <tr>\n",
       "      <th>5187</th>\n",
       "      <td>NaN</td>\n",
       "      <td>David</td>\n",
       "      <td>M</td>\n",
       "      <td>9494</td>\n",
       "      <td>Roy</td>\n",
       "    </tr>\n",
       "    <tr>\n",
       "      <th>5188</th>\n",
       "      <td>85.0</td>\n",
       "      <td>Thomas</td>\n",
       "      <td>M</td>\n",
       "      <td>10350</td>\n",
       "      <td>Turner</td>\n",
       "    </tr>\n",
       "    <tr>\n",
       "      <th>5189</th>\n",
       "      <td>NaN</td>\n",
       "      <td>April</td>\n",
       "      <td>F</td>\n",
       "      <td>10587</td>\n",
       "      <td>Sanchez</td>\n",
       "    </tr>\n",
       "    <tr>\n",
       "      <th>5190</th>\n",
       "      <td>NaN</td>\n",
       "      <td>Andrew</td>\n",
       "      <td>M</td>\n",
       "      <td>10934</td>\n",
       "      <td>Compton</td>\n",
       "    </tr>\n",
       "  </tbody>\n",
       "</table>\n",
       "<p>5191 rows × 5 columns</p>\n",
       "</div>"
      ],
      "text/plain": [
       "       age first_name gender     id last_name\n",
       "0     48.0   Nicholas      M      0    Flores\n",
       "1      NaN    Jeffery      M      1      Rowe\n",
       "2     57.0     Alexis      F      2    Benton\n",
       "3     73.0        Amy      F      3   Johnson\n",
       "4     20.0      David      M      4     Moore\n",
       "...    ...        ...    ...    ...       ...\n",
       "5186   NaN     Arthur      M   9428    Harris\n",
       "5187   NaN      David      M   9494       Roy\n",
       "5188  85.0     Thomas      M  10350    Turner\n",
       "5189   NaN      April      F  10587   Sanchez\n",
       "5190   NaN     Andrew      M  10934   Compton\n",
       "\n",
       "[5191 rows x 5 columns]"
      ]
     },
     "execution_count": 33,
     "metadata": {},
     "output_type": "execute_result"
    }
   ],
   "source": [
    "jsondf = pd.read_json(\"dim_customer.json\")"
   ]
  },
  {
   "cell_type": "markdown",
   "id": "21b7a96a",
   "metadata": {},
   "source": [
    "# Easy"
   ]
  },
  {
   "cell_type": "markdown",
   "id": "aa8d65a9",
   "metadata": {},
   "source": [
    "1. How many unique customers are in the dataset?"
   ]
  },
  {
   "cell_type": "code",
   "execution_count": 34,
   "id": "0a09fb9b",
   "metadata": {},
   "outputs": [
    {
     "data": {
      "text/plain": [
       "5191"
      ]
     },
     "execution_count": 34,
     "metadata": {},
     "output_type": "execute_result"
    }
   ],
   "source": [
    "df['customer_id'].nunique()"
   ]
  },
  {
   "cell_type": "markdown",
   "id": "1a7a3cae",
   "metadata": {},
   "source": [
    "2. What are the different categories of products available? How many unique categories are there?"
   ]
  },
  {
   "cell_type": "code",
   "execution_count": 35,
   "id": "280fc668",
   "metadata": {},
   "outputs": [
    {
     "name": "stdout",
     "output_type": "stream",
     "text": [
      "['Clothing' 'Shoes' 'Books' 'Cosmetics' 'Food & Beverage' 'Toys'\n",
      " 'Technology' 'Souvenir']\n"
     ]
    },
    {
     "data": {
      "text/plain": [
       "8"
      ]
     },
     "execution_count": 35,
     "metadata": {},
     "output_type": "execute_result"
    }
   ],
   "source": [
    "categories = df['category'].unique()\n",
    "\n",
    "print(categories)\n",
    "len(categories)"
   ]
  },
  {
   "cell_type": "markdown",
   "id": "fe5caa50",
   "metadata": {},
   "source": [
    "3. Which payment method is the most popular? How many times was it used?"
   ]
  },
  {
   "cell_type": "code",
   "execution_count": 36,
   "id": "2ff00e11",
   "metadata": {},
   "outputs": [
    {
     "name": "stdout",
     "output_type": "stream",
     "text": [
      "Cash           44447\n",
      "Credit Card    34931\n",
      "Debit Card     20079\n",
      "Name: payment_method, dtype: int64\n",
      "The most popular payment method is cash.\n",
      "It was used 44,447 times.\n"
     ]
    }
   ],
   "source": [
    "print(df['payment_method'].value_counts())\n",
    "print(\"The most popular payment method is cash.\")\n",
    "print(\"It was used 44,447 times.\")\n",
    "\n"
   ]
  },
  {
   "cell_type": "markdown",
   "id": "49af99ce",
   "metadata": {},
   "source": [
    "# Medium"
   ]
  },
  {
   "cell_type": "markdown",
   "id": "b5d88ab1",
   "metadata": {},
   "source": [
    "1. What are the three most popular categories, by total sales?"
   ]
  },
  {
   "cell_type": "code",
   "execution_count": 37,
   "id": "b657ab20",
   "metadata": {},
   "outputs": [
    {
     "data": {
      "text/plain": [
       "category\n",
       "Clothing      1.139968e+08\n",
       "Shoes         6.655345e+07\n",
       "Technology    5.786235e+07\n",
       "Name: revenue, dtype: float64"
      ]
     },
     "execution_count": 37,
     "metadata": {},
     "output_type": "execute_result"
    }
   ],
   "source": [
    "df['revenue'] = df['quantity'] * df['price']\n",
    "\n",
    "newdf = df.copy()\n",
    "\n",
    "\n",
    "revenue_per_category = newdf.groupby('category')['revenue'].sum()\n",
    "\n",
    "sorted_revenue_per_category = revenue_per_category.sort_values(ascending = False)\n",
    "\n",
    "sorted_revenue_per_category.head(3)\n",
    "\n"
   ]
  },
  {
   "cell_type": "markdown",
   "id": "d8550f97",
   "metadata": {},
   "source": [
    "2. What are the total sales attributed to customers over the age of 45?"
   ]
  },
  {
   "cell_type": "code",
   "execution_count": 38,
   "id": "6c16ad31",
   "metadata": {},
   "outputs": [
    {
     "data": {
      "text/plain": [
       "82039768.15"
      ]
     },
     "execution_count": 38,
     "metadata": {},
     "output_type": "execute_result"
    }
   ],
   "source": [
    "newdf.rename(columns = {'customer_id':'id'}, inplace = True)\n",
    "merged = pd.merge(newdf, jsondf, on = 'id', how = 'left')\n",
    "merged\n",
    "\n",
    "merged.loc[merged['age'] > 45.0, 'revenue'].sum()"
   ]
  },
  {
   "cell_type": "markdown",
   "id": "23aefb08",
   "metadata": {},
   "source": [
    "3.How is the data distributed across different invoice dates? Are there any seasonal trends or patterns? (Use a graph for this.)"
   ]
  },
  {
   "cell_type": "code",
   "execution_count": 39,
   "id": "db1049f5",
   "metadata": {},
   "outputs": [
    {
     "name": "stderr",
     "output_type": "stream",
     "text": [
      "C:\\Users\\Kino Dela Cruz\\AppData\\Local\\Temp\\ipykernel_19516\\4285860511.py:5: UserWarning: Parsing dates in DD/MM/YYYY format when dayfirst=False (the default) was specified. This may lead to inconsistently parsed dates! Specify a format to ensure consistent parsing.\n",
      "  df['invoice_date'] = pd.to_datetime(df['invoice_date'])\n"
     ]
    },
    {
     "data": {
      "image/png": "[encoded data removed]",
      "text/plain": [
       "<Figure size 640x480 with 1 Axes>"
      ]
     },
     "metadata": {},
     "output_type": "display_data"
    }
   ],
   "source": [
    "import matplotlib.pyplot as plt\n",
    "\n",
    "#monthly trends\n",
    "\n",
    "df['invoice_date'] = pd.to_datetime(df['invoice_date'])\n",
    "df['month'] = df['invoice_date'].dt.month\n",
    "\n",
    "\n",
    "grouped_df_monthly = df.groupby('month')['quantity'].sum().reset_index()\n",
    "plt.plot(grouped_df_monthly['month'], grouped_df_monthly['quantity'])\n",
    "plt.xlabel('Invoice Months')\n",
    "plt.ylabel('Quantity of Purchases')\n",
    "plt.title('Quantity of Purchases per Month')\n",
    "plt.xticks(range(1,12+1))\n",
    "plt.show()\n",
    "\n",
    "\n",
    "\n",
    "\n"
   ]
  },
  {
   "cell_type": "code",
   "execution_count": 74,
   "id": "ef413d76",
   "metadata": {},
   "outputs": [
    {
     "data": {
      "image/png": "[encoded data removed]",
      "text/plain": [
       "<Figure size 640x480 with 1 Axes>"
      ]
     },
     "metadata": {},
     "output_type": "display_data"
    }
   ],
   "source": [
    "#yearly\n",
    "\n",
    "df['year'] = df['invoice_date'].dt.year\n",
    "grouped_df_yearly = df.groupby('year')['quantity'].sum().reset_index()\n",
    "plt.plot(grouped_df_yearly['year'], grouped_df_yearly['quantity'])\n",
    "plt.xlabel('Invoice Years')\n",
    "plt.ylabel('Quantity of Purchases')\n",
    "plt.title('Quantity of Purchases per Year')\n",
    "plt.xticks([2021, 2022, 2023])\n",
    "plt.show()\n",
    "\n"
   ]
  },
  {
   "cell_type": "markdown",
   "id": "72dd4fb0",
   "metadata": {},
   "source": [
    "# Hard"
   ]
  },
  {
   "cell_type": "markdown",
   "id": "077addea",
   "metadata": {},
   "source": [
    "1. Create a pivot table showing the breakdown of sales across these dimensions, in this order: category, decade age range (e.g., 10-19, 20-29, and so forth)."
   ]
  },
  {
   "cell_type": "code",
   "execution_count": 58,
   "id": "f5a54265",
   "metadata": {},
   "outputs": [
    {
     "data": {
      "text/html": [
       "<div>\n",
       "<style scoped>\n",
       "    .dataframe tbody tr th:only-of-type {\n",
       "        vertical-align: middle;\n",
       "    }\n",
       "\n",
       "    .dataframe tbody tr th {\n",
       "        vertical-align: top;\n",
       "    }\n",
       "\n",
       "    .dataframe thead th {\n",
       "        text-align: right;\n",
       "    }\n",
       "</style>\n",
       "<table border=\"1\" class=\"dataframe\">\n",
       "  <thead>\n",
       "    <tr style=\"text-align: right;\">\n",
       "      <th></th>\n",
       "      <th>revenue</th>\n",
       "    </tr>\n",
       "    <tr>\n",
       "      <th>category</th>\n",
       "      <th></th>\n",
       "    </tr>\n",
       "  </thead>\n",
       "  <tbody>\n",
       "    <tr>\n",
       "      <th>Books</th>\n",
       "      <td>8.345529e+05</td>\n",
       "    </tr>\n",
       "    <tr>\n",
       "      <th>Clothing</th>\n",
       "      <td>1.139968e+08</td>\n",
       "    </tr>\n",
       "    <tr>\n",
       "      <th>Cosmetics</th>\n",
       "      <td>6.792863e+06</td>\n",
       "    </tr>\n",
       "    <tr>\n",
       "      <th>Food &amp; Beverage</th>\n",
       "      <td>8.495351e+05</td>\n",
       "    </tr>\n",
       "    <tr>\n",
       "      <th>Shoes</th>\n",
       "      <td>6.655345e+07</td>\n",
       "    </tr>\n",
       "    <tr>\n",
       "      <th>Souvenir</th>\n",
       "      <td>6.358247e+05</td>\n",
       "    </tr>\n",
       "    <tr>\n",
       "      <th>Technology</th>\n",
       "      <td>5.786235e+07</td>\n",
       "    </tr>\n",
       "    <tr>\n",
       "      <th>Toys</th>\n",
       "      <td>3.980426e+06</td>\n",
       "    </tr>\n",
       "  </tbody>\n",
       "</table>\n",
       "</div>"
      ],
      "text/plain": [
       "                      revenue\n",
       "category                     \n",
       "Books            8.345529e+05\n",
       "Clothing         1.139968e+08\n",
       "Cosmetics        6.792863e+06\n",
       "Food & Beverage  8.495351e+05\n",
       "Shoes            6.655345e+07\n",
       "Souvenir         6.358247e+05\n",
       "Technology       5.786235e+07\n",
       "Toys             3.980426e+06"
      ]
     },
     "execution_count": 58,
     "metadata": {},
     "output_type": "execute_result"
    }
   ],
   "source": [
    "#category\n",
    "\n",
    "pivot_table1 = merged.pivot_table(values='revenue', index='category', aggfunc='sum')\n",
    "pivot_table1"
   ]
  },
  {
   "cell_type": "code",
   "execution_count": 73,
   "id": "159fe5f4",
   "metadata": {},
   "outputs": [
    {
     "data": {
      "text/html": [
       "<div>\n",
       "<style scoped>\n",
       "    .dataframe tbody tr th:only-of-type {\n",
       "        vertical-align: middle;\n",
       "    }\n",
       "\n",
       "    .dataframe tbody tr th {\n",
       "        vertical-align: top;\n",
       "    }\n",
       "\n",
       "    .dataframe thead th {\n",
       "        text-align: right;\n",
       "    }\n",
       "</style>\n",
       "<table border=\"1\" class=\"dataframe\">\n",
       "  <thead>\n",
       "    <tr style=\"text-align: right;\">\n",
       "      <th></th>\n",
       "      <th>revenue</th>\n",
       "    </tr>\n",
       "    <tr>\n",
       "      <th>decadeAgeRange</th>\n",
       "      <th></th>\n",
       "    </tr>\n",
       "  </thead>\n",
       "  <tbody>\n",
       "    <tr>\n",
       "      <th>10-19</th>\n",
       "      <td>4259300.00</td>\n",
       "    </tr>\n",
       "    <tr>\n",
       "      <th>20-29</th>\n",
       "      <td>22636074.19</td>\n",
       "    </tr>\n",
       "    <tr>\n",
       "      <th>30-39</th>\n",
       "      <td>26093876.40</td>\n",
       "    </tr>\n",
       "    <tr>\n",
       "      <th>40-49</th>\n",
       "      <td>25494420.27</td>\n",
       "    </tr>\n",
       "    <tr>\n",
       "      <th>50-59</th>\n",
       "      <td>21745088.64</td>\n",
       "    </tr>\n",
       "    <tr>\n",
       "      <th>60-69</th>\n",
       "      <td>23341509.90</td>\n",
       "    </tr>\n",
       "    <tr>\n",
       "      <th>70-79</th>\n",
       "      <td>16728769.75</td>\n",
       "    </tr>\n",
       "    <tr>\n",
       "      <th>80-89</th>\n",
       "      <td>9559321.99</td>\n",
       "    </tr>\n",
       "  </tbody>\n",
       "</table>\n",
       "</div>"
      ],
      "text/plain": [
       "                    revenue\n",
       "decadeAgeRange             \n",
       "10-19            4259300.00\n",
       "20-29           22636074.19\n",
       "30-39           26093876.40\n",
       "40-49           25494420.27\n",
       "50-59           21745088.64\n",
       "60-69           23341509.90\n",
       "70-79           16728769.75\n",
       "80-89            9559321.99"
      ]
     },
     "execution_count": 73,
     "metadata": {},
     "output_type": "execute_result"
    }
   ],
   "source": [
    "#decade age range\n",
    "\n",
    "merged['decadeAgeRange'] = (merged['age'] // 10) * 10\n",
    "merged['decadeAgeRange'].dropna()\n",
    "merged['decadeAgeRange'] = merged['decadeAgeRange'].replace([10.0, 20.0, 30.0, 40.0, 50.0, 60.0, 70.0, 80.0], ['10-19', '20-29', '30-39', '40-49', '50-59', '60-69', '70-79', '80-89'])\n",
    "pivot_table2 = merged.pivot_table(values='revenue', index='decadeAgeRange', aggfunc='sum')\n",
    "pivot_table2"
   ]
  },
  {
   "cell_type": "code",
   "execution_count": 70,
   "id": "0be453b0",
   "metadata": {
    "scrolled": true
   },
   "outputs": [
    {
     "data": {
      "text/html": [
       "<div>\n",
       "<style scoped>\n",
       "    .dataframe tbody tr th:only-of-type {\n",
       "        vertical-align: middle;\n",
       "    }\n",
       "\n",
       "    .dataframe tbody tr th {\n",
       "        vertical-align: top;\n",
       "    }\n",
       "\n",
       "    .dataframe thead th {\n",
       "        text-align: right;\n",
       "    }\n",
       "</style>\n",
       "<table border=\"1\" class=\"dataframe\">\n",
       "  <thead>\n",
       "    <tr style=\"text-align: right;\">\n",
       "      <th>decadeAgeRange</th>\n",
       "      <th>10-19</th>\n",
       "      <th>20-29</th>\n",
       "      <th>30-39</th>\n",
       "      <th>40-49</th>\n",
       "      <th>50-59</th>\n",
       "      <th>60-69</th>\n",
       "      <th>70-79</th>\n",
       "      <th>80-89</th>\n",
       "    </tr>\n",
       "    <tr>\n",
       "      <th>category</th>\n",
       "      <th></th>\n",
       "      <th></th>\n",
       "      <th></th>\n",
       "      <th></th>\n",
       "      <th></th>\n",
       "      <th></th>\n",
       "      <th></th>\n",
       "      <th></th>\n",
       "    </tr>\n",
       "  </thead>\n",
       "  <tbody>\n",
       "    <tr>\n",
       "      <th>Books</th>\n",
       "      <td>12801.75</td>\n",
       "      <td>79461.75</td>\n",
       "      <td>84143.10</td>\n",
       "      <td>87203.40</td>\n",
       "      <td>74962.20</td>\n",
       "      <td>80476.80</td>\n",
       "      <td>54827.85</td>\n",
       "      <td>26664.00</td>\n",
       "    </tr>\n",
       "    <tr>\n",
       "      <th>Clothing</th>\n",
       "      <td>1927413.84</td>\n",
       "      <td>10250732.80</td>\n",
       "      <td>11354126.96</td>\n",
       "      <td>11215189.92</td>\n",
       "      <td>10321851.76</td>\n",
       "      <td>10660642.08</td>\n",
       "      <td>7769371.28</td>\n",
       "      <td>4493698.00</td>\n",
       "    </tr>\n",
       "    <tr>\n",
       "      <th>Cosmetics</th>\n",
       "      <td>109619.36</td>\n",
       "      <td>605915.32</td>\n",
       "      <td>723544.70</td>\n",
       "      <td>665034.96</td>\n",
       "      <td>587780.96</td>\n",
       "      <td>649990.76</td>\n",
       "      <td>419082.62</td>\n",
       "      <td>254531.60</td>\n",
       "    </tr>\n",
       "    <tr>\n",
       "      <th>Food &amp; Beverage</th>\n",
       "      <td>13582.31</td>\n",
       "      <td>73491.96</td>\n",
       "      <td>87246.86</td>\n",
       "      <td>89553.29</td>\n",
       "      <td>72425.04</td>\n",
       "      <td>80976.09</td>\n",
       "      <td>55050.98</td>\n",
       "      <td>31332.93</td>\n",
       "    </tr>\n",
       "    <tr>\n",
       "      <th>Shoes</th>\n",
       "      <td>993281.35</td>\n",
       "      <td>5924878.24</td>\n",
       "      <td>7200839.66</td>\n",
       "      <td>7025590.02</td>\n",
       "      <td>5852857.84</td>\n",
       "      <td>5978893.54</td>\n",
       "      <td>4480269.05</td>\n",
       "      <td>2628744.60</td>\n",
       "    </tr>\n",
       "    <tr>\n",
       "      <th>Souvenir</th>\n",
       "      <td>12375.15</td>\n",
       "      <td>54943.32</td>\n",
       "      <td>64092.72</td>\n",
       "      <td>66391.80</td>\n",
       "      <td>54943.32</td>\n",
       "      <td>55025.43</td>\n",
       "      <td>38673.81</td>\n",
       "      <td>23718.06</td>\n",
       "    </tr>\n",
       "    <tr>\n",
       "      <th>Technology</th>\n",
       "      <td>1129800.00</td>\n",
       "      <td>5261550.00</td>\n",
       "      <td>6159300.00</td>\n",
       "      <td>5954550.00</td>\n",
       "      <td>4435200.00</td>\n",
       "      <td>5471550.00</td>\n",
       "      <td>3638250.00</td>\n",
       "      <td>1946700.00</td>\n",
       "    </tr>\n",
       "    <tr>\n",
       "      <th>Toys</th>\n",
       "      <td>60426.24</td>\n",
       "      <td>385100.80</td>\n",
       "      <td>420582.40</td>\n",
       "      <td>390906.88</td>\n",
       "      <td>345067.52</td>\n",
       "      <td>363955.20</td>\n",
       "      <td>273244.16</td>\n",
       "      <td>153932.80</td>\n",
       "    </tr>\n",
       "  </tbody>\n",
       "</table>\n",
       "</div>"
      ],
      "text/plain": [
       "decadeAgeRange        10-19        20-29        30-39        40-49  \\\n",
       "category                                                             \n",
       "Books              12801.75     79461.75     84143.10     87203.40   \n",
       "Clothing         1927413.84  10250732.80  11354126.96  11215189.92   \n",
       "Cosmetics         109619.36    605915.32    723544.70    665034.96   \n",
       "Food & Beverage    13582.31     73491.96     87246.86     89553.29   \n",
       "Shoes             993281.35   5924878.24   7200839.66   7025590.02   \n",
       "Souvenir           12375.15     54943.32     64092.72     66391.80   \n",
       "Technology       1129800.00   5261550.00   6159300.00   5954550.00   \n",
       "Toys               60426.24    385100.80    420582.40    390906.88   \n",
       "\n",
       "decadeAgeRange         50-59        60-69       70-79       80-89  \n",
       "category                                                           \n",
       "Books               74962.20     80476.80    54827.85    26664.00  \n",
       "Clothing         10321851.76  10660642.08  7769371.28  4493698.00  \n",
       "Cosmetics          587780.96    649990.76   419082.62   254531.60  \n",
       "Food & Beverage     72425.04     80976.09    55050.98    31332.93  \n",
       "Shoes             5852857.84   5978893.54  4480269.05  2628744.60  \n",
       "Souvenir            54943.32     55025.43    38673.81    23718.06  \n",
       "Technology        4435200.00   5471550.00  3638250.00  1946700.00  \n",
       "Toys               345067.52    363955.20   273244.16   153932.80  "
      ]
     },
     "execution_count": 70,
     "metadata": {},
     "output_type": "execute_result"
    }
   ],
   "source": [
    "#category and decade age range combined\n",
    "\n",
    "merged['decadeAgeRange'] = (merged['age'] // 10) * 10\n",
    "merged['decadeAgeRange'].dropna()\n",
    "merged['decadeAgeRange'] = merged['decadeAgeRange'].replace([10.0, 20.0, 30.0, 40.0, 50.0, 60.0, 70.0, 80.0], ['10-19', '20-29', '30-39', '40-49', '50-59', '60-69', '70-79', '80-89'])\n",
    "pivot_table3 = merged.pivot_table(index='category', columns='decadeAgeRange', values='revenue', aggfunc = \"sum\")\n",
    "pivot_table3\n",
    "\n"
   ]
  }
 ],
 "metadata": {
  "kernelspec": {
   "display_name": "Python 3 (ipykernel)",
   "language": "python",
   "name": "python3"
  },
  "language_info": {
   "codemirror_mode": {
    "name": "ipython",
    "version": 3
   },
   "file_extension": ".py",
   "mimetype": "text/x-python",
   "name": "python",
   "nbconvert_exporter": "python",
   "pygments_lexer": "ipython3",
   "version": "3.10.9"
  }
 },
 "nbformat": 4,
 "nbformat_minor": 5
}
